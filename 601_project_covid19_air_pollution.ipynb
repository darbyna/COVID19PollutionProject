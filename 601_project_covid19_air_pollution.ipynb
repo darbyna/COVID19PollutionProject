{
 "cells": [
  {
   "cell_type": "code",
   "execution_count": null,
   "metadata": {},
   "outputs": [],
   "source": [
    "import pandas as pd\n",
    "import numpy as np\n",
    "import statsmodels.api as sm\n",
    "import matplotlib.pyplot as plt\n",
    "from matplotlib.dates import date2num\n",
    "from datetime import datetime\n",
    "\n",
    "# File Setup\n",
    "#path_to_files = r'C:\\Users\\Kelly\\Documents\\DataScienceGradCert\\DATA601\\Project\\AQ_Project_Data'\n",
    "\n",
    "#CO\n",
    "CO = pd.read_csv('CO_ALL.csv')\n",
    "# NO2\n",
    "NO2 = pd.read_csv('NO2_ALL.csv')\n",
    "# ozone\n",
    "ozone = pd.read_csv('ozone_ALL.csv')\n",
    "# pm2_5\n",
    "pm2_5 = pd.read_csv('pm2_5_ALL.csv')\n",
    "# pm10\n",
    "pm10 = pd.read_csv('pm10_ALL.csv')\n",
    "# SO2\n",
    "SO2 = pd.read_csv('SO2_ALL.csv')"
   ]
  },
  {
   "cell_type": "code",
   "execution_count": null,
   "metadata": {},
   "outputs": [],
   "source": [
    "# Define functions\n",
    "\n",
    "# Calculates monthly values by averaging daily values from csv\n",
    "def AverageDailyValues(csv, values, rename):\n",
    "    \n",
    "    # Change Daily data to Monthly.\n",
    "    csv['Year'] = pd.DatetimeIndex(csv['Date']).year\n",
    "    csv['Month'] = pd.DatetimeIndex(csv['Date']).month\n",
    "    csv['DATE'] = pd.to_datetime(csv[['Year', 'Month']].assign(DAY=1))\n",
    "    \n",
    "    # Create pivot table with daily averages.\n",
    "    monthly_df = pd.pivot_table(csv, #data\n",
    "                                values = values, #the values we want to average\n",
    "                                index = 'DATE', #rows\n",
    "                                aggfunc = np.mean) #how we want data aggregated \n",
    "    # Rename column\n",
    "    monthly_df = monthly_df.rename(columns={values:rename})\n",
    "    \n",
    "    return monthly_df\n",
    "\n",
    "# Create OLS Model function\n",
    "# Model Reference: https://datatofish.com/statsmodels-linear-regression/\n",
    "def CreateOLSModel(df,Y_field, X_field):\n",
    "    import statsmodels.api as sm\n",
    "    \n",
    "    # Create X and Y\n",
    "    Y = df[Y_field]\n",
    "    X = df[X_field]\n",
    "    \n",
    "    # Create constant\n",
    "    X = sm.add_constant(X)\n",
    "    \n",
    "    # Create OLS Model\n",
    "    model = sm.OLS(Y,X).fit()\n",
    "    \n",
    "    # Returns 3 outputs\n",
    "    return model,X,Y"
   ]
  },
  {
   "cell_type": "code",
   "execution_count": null,
   "metadata": {},
   "outputs": [],
   "source": [
    "# Setup AQ data\n",
    "# Determine average daily values, rename fields, plot and describe results. \n",
    "CO_values = 'Daily Max 8-hour CO Concentration'\n",
    "CO_rename = 'Daily Max 8-hour CO Concentration ppm'\n",
    "CO_monthly_df = AverageDailyValues(CO, CO_values, CO_rename)\n",
    "\n",
    "#create figure and save\n",
    "CO_data_fig, CO_data_ax = plt.subplots()\n",
    "\n",
    "CO_monthly_df.plot(ax=CO_data_ax)\n",
    "\n",
    "CO_data_ax.axvspan('11/1/2015','1/1/2016', color=\"crimson\", alpha=.3)\n",
    "CO_data_ax.axvspan('11/1/2016','1/1/2017', color=\"crimson\", alpha=.3)\n",
    "CO_data_ax.axvspan('11/1/2017','1/1/2018', color=\"crimson\", alpha=.3)\n",
    "CO_data_ax.axvspan('11/1/2018','1/1/2019', color=\"crimson\", alpha=.3)\n",
    "CO_data_ax.axvspan('11/1/2019','1/1/2020', color=\"crimson\", alpha=.3)\n",
    "\n",
    "CO_data_ax.legend(['CO Concentration, ppm', 'November through January'])\n",
    "\n",
    "CO_monthly_df.describe()\n",
    "CO_data_ax.figure.savefig('CO_data.png')"
   ]
  },
  {
   "cell_type": "code",
   "execution_count": null,
   "metadata": {},
   "outputs": [],
   "source": [
    "# Determine average daily values, rename fields, plot and describe results\n",
    "NO2_values = 'Daily Max 1-hour NO2 Concentration'\n",
    "NO2_rename = 'Daily Max 1-hour NO2 Concentration ppb'\n",
    "NO2_monthly_df = AverageDailyValues(NO2, NO2_values, NO2_rename)\n",
    "\n",
    "#create figure and save\n",
    "NO2_data_fig, NO2_data_ax = plt.subplots()\n",
    "\n",
    "NO2_monthly_df.plot(ax=NO2_data_ax)\n",
    "\n",
    "NO2_data_ax.axvspan('5/1/2015','10/1/2015', color=\"crimson\", alpha=.3)\n",
    "NO2_data_ax.axvspan('5/1/2016','10/1/2016', color=\"crimson\", alpha=.3)\n",
    "NO2_data_ax.axvspan('5/1/2017','10/1/2017', color=\"crimson\", alpha=.3)\n",
    "NO2_data_ax.axvspan('5/1/2018','10/1/2018', color=\"crimson\", alpha=.3)\n",
    "NO2_data_ax.axvspan('5/1/2019','10/1/2019', color=\"crimson\", alpha=.3)\n",
    "\n",
    "NO2_data_ax.legend(['NO2 Concentration, ppb', 'May through October'])\n",
    "\n",
    "NO2_monthly_df.describe()\n",
    "NO2_data_ax.figure.savefig('NO2_data.png')"
   ]
  },
  {
   "cell_type": "code",
   "execution_count": null,
   "metadata": {},
   "outputs": [],
   "source": [
    "# Determine average daily values, rename fields, plot and describe results\n",
    "ozone_values = 'Daily Max 8-hour Ozone Concentration'\n",
    "ozone_rename = 'Daily Max 8-hour Ozone Concentration ppm'\n",
    "\n",
    "ozone_monthly_df = AverageDailyValues(ozone, ozone_values, ozone_rename)\n",
    "ozone_data_plt = ozone_monthly_df.plot()\n",
    "ozone_data_plt\n",
    "ozone_monthly_df.describe()\n",
    "ozone_data_plt.figure.savefig('ozone_data.png')"
   ]
  },
  {
   "cell_type": "code",
   "execution_count": null,
   "metadata": {},
   "outputs": [],
   "source": [
    "# Determine average daily values, rename fields, plot and describe results\n",
    "pm10_values = 'Daily Mean PM10 Concentration'\n",
    "pm10_rename = 'Daily Mean PM10 Concentration ug/m3 SC'\n",
    "\n",
    "pm10_monthly_df = AverageDailyValues(pm10, pm10_values, pm10_rename)\n",
    "pm10_data_plt = pm10_monthly_df.plot()\n",
    "pm10_data_plt\n",
    "pm10_monthly_df.describe()\n",
    "pm10_data_plt.figure.savefig('pm10_data.png')"
   ]
  },
  {
   "cell_type": "code",
   "execution_count": null,
   "metadata": {},
   "outputs": [],
   "source": [
    "# Determine average daily values, rename fields, plot and describe results\n",
    "pm2_5_values = 'Daily Mean PM2.5 Concentration'\n",
    "pm2_5_rename = 'Daily Mean PM2.5 Concentration ug/m3 LC'\n",
    "\n",
    "pm2_5_monthly_df = AverageDailyValues(pm2_5, pm2_5_values, pm2_5_rename)\n",
    "pm2_5_data_plt = pm2_5_monthly_df.plot()\n",
    "pm2_5_data_plt\n",
    "pm2_5_monthly_df.describe()\n",
    "pm2_5_data_plt.figure.savefig('pm2_5_data.png')"
   ]
  },
  {
   "cell_type": "code",
   "execution_count": null,
   "metadata": {},
   "outputs": [],
   "source": [
    "# Determine average daily values, rename fields, plot and describe results\n",
    "SO2_values = 'Daily Max 1-hour SO2 Concentration'\n",
    "SO2_rename = 'Daily Max 1-hour SO2 Concentration ppb'\n",
    "\n",
    "SO2_monthly_df = AverageDailyValues(SO2, SO2_values, SO2_rename)\n",
    "SO2_data_plt = SO2_monthly_df.plot()\n",
    "SO2_data_plt\n",
    "SO2_monthly_df.describe()\n",
    "SO2_data_plt.figure.savefig('SO2_data.png')"
   ]
  },
  {
   "cell_type": "code",
   "execution_count": null,
   "metadata": {},
   "outputs": [],
   "source": [
    "# Setup Gasoline Data\n",
    "\n",
    "# Read Gasline Data\n",
    "gasoline_sales_df = pd.read_csv('District_of_Columbia_Total_Gasoline_All_Sales_per_Deliveries_by_Prime_Supplier.csv', skiprows=4)\n",
    "gasoline_sales_df.head()"
   ]
  },
  {
   "cell_type": "code",
   "execution_count": null,
   "metadata": {},
   "outputs": [],
   "source": [
    "# Rename field to shorter name\n",
    "gasoline_values = 'District of Columbia Total Gasoline All Sales/Deliveries by Prime Supplier Thousand Gallons per Day'\n",
    "gasoline_rename = 'Prime Supplier Sales of Gasoline Mgal/d'\n",
    "gasoline_sales_df = gasoline_sales_df.rename(columns={gasoline_values:gasoline_rename})\n",
    "\n",
    "# Change format of months in Month column to match our other data\n",
    "gasoline_sales_df['DATE'] = pd.to_datetime(gasoline_sales_df['Month'], infer_datetime_format=True)\n",
    "\n",
    "#gasoline_sales_df.head()\n",
    "gasoline_data_plt = gasoline_sales_df.loc[gasoline_sales_df['DATE']>='01/01/2015']\n",
    "gasoline_data_fig, gasoline_data_ax = plt.subplots()\n",
    "\n",
    "gasoline_data_plt.plot(x='DATE', y=gasoline_rename, ax=gasoline_data_ax)\n",
    "\n",
    "gasoline_data_ax.annotate('April 2020', xy=('4/1/2020', 94), xytext=('1/1/2019', 120), \n",
    "                          arrowprops=dict(facecolor='black', width=1))\n",
    "\n",
    "gasoline_data_ax.figure.savefig('gasoline_data.png')"
   ]
  },
  {
   "cell_type": "code",
   "execution_count": null,
   "metadata": {},
   "outputs": [],
   "source": [
    "# Merge dataframes together\n",
    "pollution_df = gasoline_sales_df[['DATE', 'Prime Supplier Sales of Gasoline Mgal/d']].merge(CO_monthly_df, on='DATE')\n",
    "pollution_df = pollution_df.merge(pm10_monthly_df, on='DATE')\n",
    "pollution_df = pollution_df.merge(NO2_monthly_df, on='DATE')\n",
    "\n",
    "# Add seasonal dummy variables\n",
    "# since we observed seasonality in NO2 and CO data, we will add these dummies to try to capture \n",
    "# the differing behavior in different months\n",
    "pollution_df= pollution_df.set_index('DATE')\n",
    "month_dummies = pd.get_dummies(pollution_df.index.month).rename(columns={1:'Jan', 2:'Feb', 3:'Mar', 4:'Apr', 5:'May', \n",
    "                                                                          6:'Jun', 7:'Jul', 8:'Aug', 9:'Sep', 10:'Oct', \n",
    "                                                                          11:'Nov', 12:'Dec'})\n",
    "month_dummies.head()"
   ]
  },
  {
   "cell_type": "code",
   "execution_count": null,
   "metadata": {},
   "outputs": [],
   "source": [
    "# Prep data for analysis\n",
    "pollution_df = pollution_df.reset_index()\n",
    "pollution_df = pd.concat([pollution_df, month_dummies], axis=1)\n",
    "#pollution_df.head()"
   ]
  },
  {
   "cell_type": "code",
   "execution_count": null,
   "metadata": {},
   "outputs": [],
   "source": [
    "# Create testing and training sets from pollution dataframe based on year\n",
    "pollution_train_df = pollution_df.loc[pollution_df['DATE'] < '01/01/2019']\n",
    "pollution_test_df = pollution_df.loc[(pollution_df['DATE'] >= '01/01/2019') & (pollution_df['DATE'] < '01/01/2020')]"
   ]
  },
  {
   "cell_type": "code",
   "execution_count": null,
   "metadata": {},
   "outputs": [],
   "source": [
    "model_CO = CreateOLSModel(pollution_train_df,CO_rename,gasoline_rename)\n",
    "#print(model_CO[0].summary())"
   ]
  },
  {
   "cell_type": "code",
   "execution_count": null,
   "metadata": {},
   "outputs": [],
   "source": [
    "model_pm10 = CreateOLSModel(pollution_train_df,pm10_rename,gasoline_rename)\n",
    "#print(model_pm10[0].summary())"
   ]
  },
  {
   "cell_type": "code",
   "execution_count": null,
   "metadata": {},
   "outputs": [],
   "source": [
    "model_NO2 = CreateOLSModel(pollution_train_df,NO2_rename,gasoline_rename)\n",
    "#print(model_NO2[0].summary())"
   ]
  },
  {
   "cell_type": "code",
   "execution_count": null,
   "metadata": {},
   "outputs": [],
   "source": [
    "# Seasonal Test 1"
   ]
  },
  {
   "cell_type": "code",
   "execution_count": null,
   "metadata": {},
   "outputs": [],
   "source": [
    "# Apply seasonal variation to OLS model with gasoline and months.\n",
    "values = [gasoline_rename, 'Feb', 'Mar', 'Apr', 'May', 'Jun', 'Jul', 'Aug','Sep', 'Oct', 'Nov', 'Dec']"
   ]
  },
  {
   "cell_type": "code",
   "execution_count": null,
   "metadata": {},
   "outputs": [],
   "source": [
    "# Apply seasonal variation to OLS model\n",
    "model_CO_seasonal = CreateOLSModel(pollution_train_df,CO_rename,values)\n",
    "# print(model_CO_seasonal[0].summary())"
   ]
  },
  {
   "cell_type": "code",
   "execution_count": null,
   "metadata": {},
   "outputs": [],
   "source": [
    "# Apply seasonal variation to OLS model\n",
    "model_NO2_seasonal = CreateOLSModel(pollution_train_df,NO2_rename,values)\n",
    "# print(model_NO2_seasonal[0].summary())"
   ]
  },
  {
   "cell_type": "code",
   "execution_count": null,
   "metadata": {},
   "outputs": [],
   "source": [
    "# Seasonal Test 2"
   ]
  },
  {
   "cell_type": "code",
   "execution_count": null,
   "metadata": {},
   "outputs": [],
   "source": [
    "# Apply seasonal variation with gasoline, excluding least significant month based on p-value\n",
    "values = [gasoline_rename, 'Mar', 'Apr', 'May', 'Jun', 'Jul', 'Aug', 'Sep', 'Oct', 'Nov', 'Dec']\n",
    "model2_CO_seasonal = CreateOLSModel(pollution_train_df, CO_rename, values)\n",
    "# print(model2_CO_seasonal[0].summary())"
   ]
  },
  {
   "cell_type": "code",
   "execution_count": null,
   "metadata": {},
   "outputs": [],
   "source": [
    "# Apply seasonal variation with gasoline, excluding least significant month based on p-value\n",
    "values = [gasoline_rename,'Feb', 'Apr', 'May', 'Jun', 'Jul', 'Aug','Sep', 'Oct', 'Nov', 'Dec']                                  \n",
    "model2_NO2_seasonal = CreateOLSModel(pollution_train_df,NO2_rename, values )\n",
    "# print(model2_NO2_seasonal[0].summary())"
   ]
  },
  {
   "cell_type": "code",
   "execution_count": null,
   "metadata": {},
   "outputs": [],
   "source": [
    "# Seasonal Test 3"
   ]
  },
  {
   "cell_type": "code",
   "execution_count": null,
   "metadata": {},
   "outputs": [],
   "source": [
    "# Apply seasonal variation with gasoline, excluding least significant month based on p-value\n",
    "values = [gasoline_rename, 'Mar', 'Apr', 'May', 'Jun', 'Jul', 'Aug','Sep', 'Nov', 'Dec']\n",
    "model3_CO_seasonal = CreateOLSModel(pollution_train_df, CO_rename, values)\n",
    "# print(model3_CO_seasonal[0].summary())"
   ]
  },
  {
   "cell_type": "code",
   "execution_count": null,
   "metadata": {},
   "outputs": [],
   "source": [
    "# Apply seasonal variation with gasoline, excluding least significant month based on p-value\n",
    "values = [gasoline_rename, 'Apr', 'May', 'Jun', 'Jul', 'Aug','Sep', 'Oct', 'Nov', 'Dec']                                  \n",
    "model3_NO2_seasonal = CreateOLSModel(pollution_train_df,NO2_rename, values )\n",
    "# print(model3_NO2_seasonal[0].summary())"
   ]
  },
  {
   "cell_type": "code",
   "execution_count": null,
   "metadata": {},
   "outputs": [],
   "source": [
    "# Seasonal Test 4"
   ]
  },
  {
   "cell_type": "code",
   "execution_count": null,
   "metadata": {},
   "outputs": [],
   "source": [
    "# Apply seasonal variation with gasoline, excluding least significant month based on p-value\n",
    "values = [gasoline_rename, 'Apr', 'May', 'Jun', 'Jul', 'Aug','Sep', 'Nov', 'Dec']\n",
    "model4_CO_seasonal = CreateOLSModel(pollution_train_df, CO_rename, values)\n",
    "# print(model4_CO_seasonal[0].summary())"
   ]
  },
  {
   "cell_type": "code",
   "execution_count": null,
   "metadata": {},
   "outputs": [],
   "source": [
    "# Apply seasonal variation with gasoline, excluding least significant month based on p-value\n",
    "values = [gasoline_rename, 'Apr', 'May', 'Jun', 'Jul', 'Aug','Sep', 'Oct', 'Dec']                                  \n",
    "model4_NO2_seasonal = CreateOLSModel(pollution_train_df,NO2_rename, values )\n",
    "# print(model4_NO2_seasonal[0].summary())"
   ]
  },
  {
   "cell_type": "code",
   "execution_count": null,
   "metadata": {},
   "outputs": [],
   "source": [
    "# Seasonal Test 5"
   ]
  },
  {
   "cell_type": "code",
   "execution_count": null,
   "metadata": {},
   "outputs": [],
   "source": [
    "# Apply seasonal variation with gasoline, excluding least significant month based on p-value\n",
    "values = [gasoline_rename, 'Apr', 'May', 'Jul', 'Aug','Sep', 'Nov', 'Dec']\n",
    "model5_CO_seasonal = CreateOLSModel(pollution_train_df, CO_rename, values)\n",
    "# print(model5_CO_seasonal[0].summary())"
   ]
  },
  {
   "cell_type": "code",
   "execution_count": null,
   "metadata": {},
   "outputs": [],
   "source": [
    "# Apply seasonal variation with gasoline, excluding least significant month based on p-value\n",
    "values = [gasoline_rename,'May', 'Jun', 'Jul', 'Aug','Sep', 'Oct', 'Dec']                                  \n",
    "model5_NO2_seasonal = CreateOLSModel(pollution_train_df,NO2_rename, values )\n",
    "# print(model5_NO2_seasonal[0].summary())"
   ]
  },
  {
   "cell_type": "code",
   "execution_count": null,
   "metadata": {},
   "outputs": [],
   "source": [
    "# Seasonal Test 6"
   ]
  },
  {
   "cell_type": "code",
   "execution_count": null,
   "metadata": {},
   "outputs": [],
   "source": [
    "# Apply seasonal variation with gasoline, excluding least significant month based on p-value\n",
    "values = [gasoline_rename, 'Apr', 'May', 'Jul', 'Aug', 'Nov', 'Dec']\n",
    "model6_CO_seasonal = CreateOLSModel(pollution_train_df, CO_rename, values)\n",
    "# print(model6_CO_seasonal[0].summary())"
   ]
  },
  {
   "cell_type": "code",
   "execution_count": null,
   "metadata": {},
   "outputs": [],
   "source": [
    "# Apply seasonal variation with gasoline, excluding least significant month based on p-value\n",
    "values_NO2 = [gasoline_rename,'May', 'Jun', 'Jul', 'Aug','Sep', 'Oct'] \n",
    "\n",
    "# Grabs the X and Y to create predictions\n",
    "model6_NO2_seasonal, X_NO2, Y_NO2 = CreateOLSModel(pollution_train_df,NO2_rename, values_NO2)\n",
    "# print(model6_NO2_seasonal.summary())"
   ]
  },
  {
   "cell_type": "code",
   "execution_count": null,
   "metadata": {},
   "outputs": [],
   "source": [
    "# Seasonal Test 7"
   ]
  },
  {
   "cell_type": "code",
   "execution_count": null,
   "metadata": {},
   "outputs": [],
   "source": [
    "# Apply seasonal variation with gasoline, excluding least significant month based on p-value\n",
    "values = [gasoline_rename, 'May', 'Jul', 'Aug', 'Nov', 'Dec']\n",
    "model7_CO_seasonal = CreateOLSModel(pollution_train_df, CO_rename, values)\n",
    "# print(model7_CO_seasonal[0].summary())"
   ]
  },
  {
   "cell_type": "code",
   "execution_count": null,
   "metadata": {},
   "outputs": [],
   "source": [
    "# Seasonal Test 8"
   ]
  },
  {
   "cell_type": "code",
   "execution_count": null,
   "metadata": {},
   "outputs": [],
   "source": [
    "# Apply seasonal variation with gasoline, excluding least significant month based on p-value\n",
    "values8 = [gasoline_rename,'Jul', 'Aug', 'Nov', 'Dec']\n",
    "model8_CO_seasonal = CreateOLSModel(pollution_train_df, CO_rename, values8)\n",
    "# print(model8_CO_seasonal[0].summary())"
   ]
  },
  {
   "cell_type": "code",
   "execution_count": null,
   "metadata": {},
   "outputs": [],
   "source": [
    "# Seasonal Test 9"
   ]
  },
  {
   "cell_type": "code",
   "execution_count": null,
   "metadata": {},
   "outputs": [],
   "source": [
    "# Apply seasonal variation with gasoline, excluding least significant month based on p-value\n",
    "values = [gasoline_rename, 'Jul', 'Nov', 'Dec']\n",
    "model9_CO_seasonal = CreateOLSModel(pollution_train_df, CO_rename, values)\n",
    "# print(model9_CO_seasonal[0].summary())"
   ]
  },
  {
   "cell_type": "code",
   "execution_count": null,
   "metadata": {},
   "outputs": [],
   "source": [
    "# Seasonal Test 10"
   ]
  },
  {
   "cell_type": "code",
   "execution_count": null,
   "metadata": {},
   "outputs": [],
   "source": [
    "# Apply seasonal variation with gasoline, excluding least significant month based on p-value\n",
    "values = [gasoline_rename, 'Nov', 'Dec']\n",
    "\n",
    "# Grabs the X and Y to create predictions\n",
    "model10_CO_seasonal, X_CO, Y_CO = CreateOLSModel(pollution_train_df, CO_rename, values)\n",
    "# print(model10_CO_seasonal.summary())"
   ]
  },
  {
   "cell_type": "code",
   "execution_count": null,
   "metadata": {},
   "outputs": [],
   "source": [
    "# Get predictions for the models that looked the best\n",
    "\n",
    "# Grab X from model\n",
    "X_seasonal_CO10 = X_CO\n",
    "# Create Prediction\n",
    "predictions_CO_seasonal10 = model10_CO_seasonal.predict(X_seasonal_CO10)\n",
    "\n",
    "# Grab X from model and model\n",
    "X_seasonal_NO26 = X_NO2\n",
    "# Create Prediction\n",
    "predictions_NO2_seasonal6 = model6_NO2_seasonal.predict(X_seasonal_NO26)\n",
    "\n",
    "#merge them onto the pollution data frame\n",
    "pollution_train_df['Predictions_CO_seasonal10'] = predictions_CO_seasonal10\n",
    "pollution_train_df['Predictions_NO2_seasonal6'] = predictions_NO2_seasonal6\n",
    "#pollution_train_df"
   ]
  },
  {
   "cell_type": "code",
   "execution_count": null,
   "metadata": {},
   "outputs": [],
   "source": [
    "#plot the actual values vs predicted\n",
    "CO_predict_train_plt = pollution_train_df.plot(x='DATE', \n",
    "                                               y=['Daily Max 8-hour CO Concentration ppm', 'Predictions_CO_seasonal10'])\n",
    "CO_predict_train_plt\n",
    "CO_predict_train_plt.figure.savefig('CO_predictions_training_set.png')"
   ]
  },
  {
   "cell_type": "code",
   "execution_count": null,
   "metadata": {},
   "outputs": [],
   "source": [
    "NO2_predict_train_plt = pollution_train_df.plot(x='DATE', \n",
    "                                                y=['Daily Max 1-hour NO2 Concentration ppb', 'Predictions_NO2_seasonal6'])\n",
    "NO2_predict_train_plt\n",
    "NO2_predict_train_plt.figure.savefig('NO2_predictions_training_set.png')"
   ]
  },
  {
   "cell_type": "code",
   "execution_count": null,
   "metadata": {},
   "outputs": [],
   "source": [
    "#predict 2019 values \n",
    "model, X_CO_test, Y_CO_test = CreateOLSModel(pollution_test_df, CO_rename, values)\n",
    "predictions_CO_2019 = model10_CO_seasonal.predict(X_CO_test)\n",
    "\n",
    "model, X_NO2_test, Y_NO2_test = CreateOLSModel(pollution_test_df, NO2_rename, values_NO2)\n",
    "predictions_NO2_2019 = model6_NO2_seasonal.predict(X_NO2_test)"
   ]
  },
  {
   "cell_type": "code",
   "execution_count": null,
   "metadata": {},
   "outputs": [],
   "source": [
    "pollution_test_df['Predictions_CO_2019'] = predictions_CO_2019\n",
    "pollution_test_df['Predictions_NO2_2019'] = predictions_NO2_2019\n",
    "#pollution_test_df"
   ]
  },
  {
   "cell_type": "code",
   "execution_count": null,
   "metadata": {},
   "outputs": [],
   "source": [
    "#plot the actual values vs predicted\n",
    "CO_predict_test_plt = pollution_test_df.plot(x='DATE', y=['Daily Max 8-hour CO Concentration ppm', 'Predictions_CO_2019'])\n",
    "CO_predict_test_plt\n",
    "CO_predict_test_plt.figure.savefig('CO_predictions_testing_set.png')"
   ]
  },
  {
   "cell_type": "code",
   "execution_count": null,
   "metadata": {},
   "outputs": [],
   "source": [
    "#plot the actual values vs predicted\n",
    "NO2_predict_test_plt = pollution_test_df.plot(x='DATE', y=['Daily Max 1-hour NO2 Concentration ppb', 'Predictions_NO2_2019'])\n",
    "NO2_predict_test_plt\n",
    "NO2_predict_test_plt.figure.savefig('NO2_predictions_testing_set.png')"
   ]
  },
  {
   "cell_type": "code",
   "execution_count": null,
   "metadata": {},
   "outputs": [],
   "source": [
    "#get MSE for 2019 data vs predictions\n",
    "CO_seasonal10_MSE1 = ((pollution_test_df['Daily Max 8-hour CO Concentration ppm'] - pollution_test_df['Predictions_CO_2019'])**2).mean()\n",
    "NO2_seasonal6_MSE1 = ((pollution_test_df['Daily Max 1-hour NO2 Concentration ppb'] - pollution_test_df['Predictions_NO2_2019'])**2).mean()\n",
    "print('CO_seasonal10_MSE1=', CO_seasonal10_MSE1, ' ', 'NO2_seasonal6_MSE1=', NO2_seasonal6_MSE1)"
   ]
  },
  {
   "cell_type": "code",
   "execution_count": null,
   "metadata": {},
   "outputs": [],
   "source": [
    "#re-estimate models with data through 2019\n",
    "pollution_df_no2020 = pollution_df.loc[pollution_df['DATE'] < '01/01/2020']\n",
    "\n",
    "model_CO, X_CO_2019, Y_CO_2019 = CreateOLSModel(pollution_df_no2020, CO_rename, values)\n",
    "predictions_CO = model_CO.predict(X_CO_2019)\n",
    "\n",
    "model_NO2, X_NO2_2019, Y_NO2_2019 = CreateOLSModel(pollution_df_no2020, NO2_rename, values_NO2)\n",
    "predictions_NO2 = model_NO2.predict(X_NO2_2019)\n",
    "\n",
    "#print(model10_CO_seasonal_2019_data.summary())\n",
    "#print(model6_NO2_seasonal_2019_data.summary())\n",
    "\n",
    "#add predictions to df\n",
    "pollution_df_no2020['Predictions_CO'] = predictions_CO\n",
    "pollution_df_no2020['Predictions_NO2'] = predictions_NO2\n",
    "#pollution_df_no2020"
   ]
  },
  {
   "cell_type": "code",
   "execution_count": null,
   "metadata": {},
   "outputs": [],
   "source": [
    "CO_predict2_fig, CO_predict2_ax = plt.subplots()\n",
    "\n",
    "pollution_df_no2020.plot(x='DATE', y='Daily Max 8-hour CO Concentration ppm', ax=CO_predict2_ax)\n",
    "pollution_df_no2020.plot(x='DATE', y='Predictions_CO', linestyle='--', ax=CO_predict2_ax)\n",
    "CO_predict2_ax.legend(['CO Concentration, ppm', 'Model results, CO Concentration'])\n",
    "CO_predict2_ax.figure.savefig('CO_predictions_final_model_no2020.png')"
   ]
  },
  {
   "cell_type": "code",
   "execution_count": null,
   "metadata": {},
   "outputs": [],
   "source": [
    "NO2_predict2_fig, NO2_predict2_ax = plt.subplots()\n",
    "\n",
    "pollution_df_no2020.plot(x='DATE', y='Daily Max 1-hour NO2 Concentration ppb', ax=NO2_predict2_ax)\n",
    "pollution_df_no2020.plot(x='DATE', y='Predictions_NO2', linestyle='--', ax=NO2_predict2_ax)\n",
    "NO2_predict2_ax.legend(['NO2 Concentration, ppb', 'Model results, NO2 Concentration'])\n",
    "NO2_predict2_ax.figure.savefig('NO2_predictions_final_model_no2020.png')"
   ]
  },
  {
   "cell_type": "code",
   "execution_count": null,
   "metadata": {},
   "outputs": [],
   "source": [
    "#re-calculate MSEs (should be less than first MSE calculation)\n",
    "CO_seasonal10_MSE2 = ((pollution_df_no2020['Daily Max 8-hour CO Concentration ppm'] - pollution_df_no2020['Predictions_CO'])**2).mean()\n",
    "NO2_seasonal6_MSE2 = ((pollution_df_no2020['Daily Max 1-hour NO2 Concentration ppb'] - pollution_df_no2020['Predictions_NO2'])**2).mean()\n",
    "print('CO_seasonal10_MSE2=', CO_seasonal10_MSE2, ' ', 'NO2_seasonal6_MSE2=', NO2_seasonal6_MSE2)"
   ]
  },
  {
   "cell_type": "code",
   "execution_count": null,
   "metadata": {},
   "outputs": [],
   "source": [
    "#now that we have final models, use them to predict 2020 data\n",
    "X_CO_2020 = pollution_df[['Prime Supplier Sales of Gasoline Mgal/d', 'Nov', 'Dec']]\n",
    "X_CO_2020 = sm.add_constant(X_CO_2020)\n",
    "predictions_CO_2020 = model_CO.predict(X_CO_2020)\n",
    "\n",
    "X_NO2_2020 = pollution_df[['Prime Supplier Sales of Gasoline Mgal/d', 'May', 'Jun', 'Jul', 'Aug', 'Sep', 'Oct']]\n",
    "X_NO2_2020 = sm.add_constant(X_NO2_2020)\n",
    "predictions_NO2_2020 = model_NO2.predict(X_NO2_2020)\n",
    "\n",
    "#add predictions to df\n",
    "pollution_df['Predictions_CO'] = predictions_CO_2020\n",
    "pollution_df['Predictions_NO2'] = predictions_NO2_2020"
   ]
  },
  {
   "cell_type": "code",
   "execution_count": null,
   "metadata": {},
   "outputs": [],
   "source": [
    "CO_predict_final_plt = pollution_df.plot(x='DATE', y=['Daily Max 8-hour CO Concentration ppm', 'Predictions_CO'])\n",
    "CO_predict_final_plt\n",
    "CO_predict_final_plt.figure.savefig('CO_predictions_final_all_data.png')"
   ]
  },
  {
   "cell_type": "code",
   "execution_count": null,
   "metadata": {},
   "outputs": [],
   "source": [
    "NO2_predict_final_plt = pollution_df.plot(x='DATE', y=['Daily Max 1-hour NO2 Concentration ppb', 'Predictions_NO2'])\n",
    "NO2_predict_final_plt\n",
    "NO2_predict_final_plt.figure.savefig('NO2_predictions_final_all_data.png')"
   ]
  },
  {
   "cell_type": "code",
   "execution_count": null,
   "metadata": {
    "scrolled": true
   },
   "outputs": [],
   "source": [
    "print(model_CO.summary())"
   ]
  },
  {
   "cell_type": "code",
   "execution_count": null,
   "metadata": {},
   "outputs": [],
   "source": [
    "print(model_NO2.summary())"
   ]
  },
  {
   "cell_type": "code",
   "execution_count": null,
   "metadata": {},
   "outputs": [],
   "source": [
    "pollution_df.to_excel('data_and_predictions.xlsx', index=False)"
   ]
  },
  {
   "cell_type": "code",
   "execution_count": null,
   "metadata": {},
   "outputs": [],
   "source": []
  },
  {
   "cell_type": "code",
   "execution_count": null,
   "metadata": {},
   "outputs": [],
   "source": []
  },
  {
   "cell_type": "code",
   "execution_count": null,
   "metadata": {},
   "outputs": [],
   "source": []
  }
 ],
 "metadata": {
  "kernelspec": {
   "display_name": "Python 3",
   "language": "python",
   "name": "python3"
  },
  "language_info": {
   "codemirror_mode": {
    "name": "ipython",
    "version": 3
   },
   "file_extension": ".py",
   "mimetype": "text/x-python",
   "name": "python",
   "nbconvert_exporter": "python",
   "pygments_lexer": "ipython3",
   "version": "3.8.3"
  }
 },
 "nbformat": 4,
 "nbformat_minor": 4
}
